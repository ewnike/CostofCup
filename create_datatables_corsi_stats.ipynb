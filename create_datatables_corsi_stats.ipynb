{
 "cells": [
  {
   "cell_type": "code",
   "execution_count": 2,
   "metadata": {},
   "outputs": [],
   "source": [
    "import pandas as pd\n",
    "import os\n",
    "from sqlalchemy import create_engine\n",
    "from sqlalchemy.exc import SQLAlchemyError\n",
    "import psycopg2\n",
    "from dotenv import load_dotenv"
   ]
  },
  {
   "cell_type": "code",
   "execution_count": 3,
   "metadata": {},
   "outputs": [
    {
     "data": {
      "text/plain": [
       "False"
      ]
     },
     "execution_count": 3,
     "metadata": {},
     "output_type": "execute_result"
    }
   ],
   "source": [
    "# Load environment variables from the .env file\n",
    "load_dotenv()"
   ]
  },
  {
   "cell_type": "code",
   "execution_count": null,
   "metadata": {},
   "outputs": [],
   "source": [
    "# Retrieve database connection parameters from environment variables\n",
    "DATABASE_TYPE = os.getenv('DATABASE_TYPE')\n",
    "DBAPI = os.getenv('DBAPI')\n",
    "ENDPOINT = os.getenv('ENDPOINT')\n",
    "USER = os.getenv('USER')\n",
    "PASSWORD = os.getenv('PASSWORD')\n",
    "PORT = int(os.getenv('PORT', 5433))  # Provide default value if not set\n",
    "DATABASE = os.getenv('DATABASE')"
   ]
  },
  {
   "cell_type": "code",
   "execution_count": null,
   "metadata": {},
   "outputs": [],
   "source": [
    "# Create the connection string\n",
    "connection_string = f\"{DATABASE_TYPE}+{DBAPI}://{USER}:{PASSWORD}@{ENDPOINT}:{PORT}/{DATABASE}\"\n",
    "\n",
    "engine = create_engine(connection_string)\n",
    "\n",
    "directory_path = r\"C:\\Users\\eric\\Documents\\cost_of_cup\\corsi_vals\""
   ]
  },
  {
   "cell_type": "code",
   "execution_count": null,
   "metadata": {},
   "outputs": [],
   "source": [
    "# Looping through .csv files and inserting into postgres\n",
    "for filename in os.listdir(directory_path):\n",
    "    if filename.endswith('.csv'):\n",
    "        # Load the CSV file into a pandas DataFrame\n",
    "        file_path = os.path.join(directory_path, filename)\n",
    "        df = pd.read_csv(file_path)\n",
    "\n",
    "        # Define the table name (without the .csv extension)\n",
    "        table_name = os.path.splitext(filename)[0]\n",
    "        # Write the DataFrame to the SQL database\n",
    "        try:\n",
    "            df.to_sql(table_name, engine, index=False, if_exists='replace')\n",
    "            print(f\"Table '{table_name}' created successfully.\")\n",
    "        except SQLAlchemyError as e:\n",
    "            print(f\"Error occurred while creating table '{table_name}': {e}\")"
   ]
  }
 ],
 "metadata": {
  "kernelspec": {
   "display_name": "venv",
   "language": "python",
   "name": "python3"
  },
  "language_info": {
   "codemirror_mode": {
    "name": "ipython",
    "version": 3
   },
   "file_extension": ".py",
   "mimetype": "text/x-python",
   "name": "python",
   "nbconvert_exporter": "python",
   "pygments_lexer": "ipython3",
   "version": "3.12.3"
  }
 },
 "nbformat": 4,
 "nbformat_minor": 2
}
