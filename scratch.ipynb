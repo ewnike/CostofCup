version https://git-lfs.github.com/spec/v1
oid sha256:527ebd0fd94cae32790dab5ebd14a9674abc20064d378c8c570b6c2eb9de8127
size 580
