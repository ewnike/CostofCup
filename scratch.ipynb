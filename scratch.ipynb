{
 "cells": [
  {
   "cell_type": "code",
   "execution_count": 42,
   "metadata": {},
   "outputs": [],
   "source": [
    "import requests\n",
    "import pandas as pd\n",
    "import numpy as np"
   ]
  },
  {
   "cell_type": "code",
   "execution_count": 43,
   "metadata": {},
   "outputs": [],
   "source": [
    "def clean_spo_df(df):\n",
    "    # columns = df.columns\n",
    "    # print(\"Columns as Index object:\", columns)\n",
    "    df.columns = [\n",
    "        \"Rank\",\n",
    "        \"Team\",\n",
    "        \"Record\",\n",
    "        \"Players Active\",\n",
    "        \"Avg Age Team\",\n",
    "        \"Total Cap Allocations\",\n",
    "        \"Long-Term IR Adjustment\",\n",
    "        \"Cap Space All\",\n",
    "        \"Active\",\n",
    "        \"Injured\",\n",
    "        \"Injured  Long-Term\",\n",
    "    ]\n",
    "    df = df[[\"Rank\", \"Team\", \"Total Cap Allocations\", \"Cap Space All\"]]\n",
    "    return df\n",
    "\n",
    "\n",
    "def clean_capfr_df(df):\n",
    "    # columns = df.columns\n",
    "    # print(\"Columns as Index object:\", columns)\n",
    "    df = df[[\"PLAYER\", \"TEAM\", \"POS\", \"CAP HIT\", \"SALARY\"]]\n",
    "    return df"
   ]
  },
  {
   "cell_type": "code",
   "execution_count": 44,
   "metadata": {},
   "outputs": [],
   "source": [
    "# Creates a pandas dataframe from a website table given a dictionary of URLs\n",
    "def read_url(urls):\n",
    "    total_dfs = []\n",
    "\n",
    "    for url in urls.keys():\n",
    "        if urls[url] == \"single\":\n",
    "            df = pd.read_html(url)[0]\n",
    "            df = clean_spo_df(df)\n",
    "            total_dfs.append(df)\n",
    "        if urls[url] == \"multi\":\n",
    "            dfs = []\n",
    "            i = \"1\"\n",
    "            print(\"Creating list of dfs to concatenate\")\n",
    "            df = pd.read_html(url + i)[0]\n",
    "            while len(df) > 0:\n",
    "                # print(\"printing url\")\n",
    "                # print(url)\n",
    "                # print(url + i)\n",
    "                df = pd.read_html(url + i)[0]\n",
    "                i = int(i)\n",
    "                # print(i)\n",
    "                i += 1\n",
    "                # print(i)\n",
    "                i = str(i)\n",
    "                # print(i)\n",
    "                df = clean_capfr_df(df)\n",
    "                dfs.append(df)\n",
    "            print(\"Finished creating list of dfs to concatenate\")\n",
    "            combined_df = pd.DataFrame()\n",
    "            for df in dfs:\n",
    "                # print(type(combined_df))\n",
    "                # print(type(df))\n",
    "                # print(\"Printing next page of df to concatenate\")\n",
    "                # print(df.head())\n",
    "                combined_df = pd.concat([combined_df, df], ignore_index=True)\n",
    "                # print(\"Printing updated concatenated df with next page\")\n",
    "                # print(combined_df.head())\n",
    "            # print(\"Printing fully concatenated df and its length\")\n",
    "            # print(combined_df.head())\n",
    "            # print(len(combined_df))\n",
    "            total_dfs.append(combined_df)\n",
    "\n",
    "    return total_dfs"
   ]
  },
  {
   "cell_type": "code",
   "execution_count": 45,
   "metadata": {},
   "outputs": [
    {
     "name": "stdout",
     "output_type": "stream",
     "text": [
      "Running Main...\n",
      "Creating list of dfs to concatenate\n",
      "Finished creating list of dfs to concatenate\n",
      "Creating list of dfs to concatenate\n",
      "Finished creating list of dfs to concatenate\n",
      "Creating list of dfs to concatenate\n",
      "Finished creating list of dfs to concatenate\n"
     ]
    }
   ],
   "source": [
    "print(\"Running Main...\")\n",
    "\n",
    "# Spotrac URLs for team salary totals\n",
    "spo_url_15 = \"https://www.spotrac.com/nhl/cap/_/year/2015/sort/cap_maximum_space2\"\n",
    "spo_url_16 = \"https://www.spotrac.com/nhl/cap/_/year/2016/sort/cap_maximum_space2\"\n",
    "spo_url_17 = \"https://www.spotrac.com/nhl/cap/_/year/2017/sort/cap_maximum_space2\"\n",
    "\n",
    "# Cap Friendly URLs for player salary totals\n",
    "cafr_base_15 = \"https://www.capfriendly.com/browse/active/2016?hide=clauses,age,handed,skater-stats,goalie-stats&pg=\"\n",
    "cafr_base_16 = \"https://www.capfriendly.com/browse/active/2017?hide=clauses,age,handed,skater-stats,goalie-stats&pg=\"\n",
    "cafr_base_17 = \"https://www.capfriendly.com/browse/active/2018?hide=clauses,age,handed,skater-stats,goalie-stats&pg=\"\n",
    "\n",
    "\n",
    "nhl_urls = {\n",
    "    spo_url_15: \"single\",\n",
    "    spo_url_16: \"single\",\n",
    "    spo_url_17: \"single\",\n",
    "    cafr_base_15: \"multi\",\n",
    "    cafr_base_16: \"multi\",\n",
    "    cafr_base_17: \"multi\",\n",
    "}\n",
    "\n",
    "team_sals_15, team_sals_16, team_sals_17, player_sals_15, player_sals_16, player_sals_17 = read_url(\n",
    "    nhl_urls\n",
    ")\n",
    "\n",
    "# print(team_sals_15.head())\n",
    "# print(team_sals_16.head())\n",
    "# print(team_sals_17.head())\n",
    "# print(player_sals_15.head())\n",
    "# print(player_sals_16.head())\n",
    "# print(player_sals_17.head())"
   ]
  },
  {
   "cell_type": "code",
   "execution_count": 46,
   "metadata": {},
   "outputs": [
    {
     "name": "stdout",
     "output_type": "stream",
     "text": [
      "   Rank      Team Total Cap Allocations Cap Space All\n",
      "0   1.0  WPG  WPG           $57,038,400   $14,361,600\n",
      "1   2.0  CAR  CAR           $57,310,738   $14,089,262\n",
      "2   3.0  NSH  NSH           $61,178,945   $10,221,055\n",
      "3   4.0  BUF  BUF           $62,019,704    $9,380,296\n",
      "4   5.0  COL  COL           $62,767,942    $8,632,058\n",
      "   Rank      Team Total Cap Allocations Cap Space All\n",
      "0   1.0  CAR  CAR           $55,070,883   $17,929,117\n",
      "1   2.0  NJD  NJD           $63,384,193    $9,615,807\n",
      "2   3.0  TBL  TBL           $64,056,091    $8,943,909\n",
      "3   4.0  WPG  WPG           $64,113,622    $8,886,378\n",
      "4   5.0  FLA  FLA           $64,675,437    $8,324,563\n",
      "   Rank      Team Total Cap Allocations Cap Space All\n",
      "0   1.0  ARI  ARI           $57,472,552   $17,527,448\n",
      "1   2.0  CAR  CAR           $57,873,988   $17,126,012\n",
      "2   3.0  MTL  MTL           $61,260,710   $13,739,290\n",
      "3   4.0  EDM  EDM           $63,310,213   $11,689,787\n",
      "4   5.0  NSH  NSH           $64,340,995   $10,659,005\n",
      "              PLAYER TEAM POS      CAP HIT       SALARY\n",
      "0  1. Jonathan Toews    -   C  $10,500,000  $13,800,000\n",
      "1    2. Patrick Kane  DET  RW  $10,500,000  $13,800,000\n",
      "2   3. Alex Ovechkin  WSH  LW   $9,538,462  $10,000,000\n",
      "3   4. Evgeni Malkin  PIT   C   $9,500,000   $9,500,000\n",
      "4     5. P.K. Subban    -  RD   $9,000,000   $7,000,000\n",
      "              PLAYER TEAM POS      CAP HIT       SALARY\n",
      "0  1. Jonathan Toews    -   C  $10,500,000  $13,800,000\n",
      "1    2. Patrick Kane  DET  RW  $10,500,000  $13,800,000\n",
      "2    3. Anze Kopitar  LAK   C  $10,000,000  $14,000,000\n",
      "3   4. Alex Ovechkin  WSH  LW   $9,538,462  $10,000,000\n",
      "4   5. Evgeni Malkin  PIT   C   $9,500,000   $9,500,000\n",
      "              PLAYER TEAM    POS      CAP HIT       SALARY\n",
      "0  1. Jonathan Toews    -      C  $10,500,000  $13,800,000\n",
      "1    2. Patrick Kane  DET     RW  $10,500,000  $13,800,000\n",
      "2    3. Anze Kopitar  LAK      C  $10,000,000  $13,000,000\n",
      "3   4. Alex Ovechkin  WSH     LW   $9,538,462  $10,000,000\n",
      "4      5. Jamie Benn  DAL  LW, C   $9,500,000  $13,000,000\n"
     ]
    }
   ],
   "source": [
    "print(team_sals_15.head())\n",
    "print(team_sals_16.head())\n",
    "print(team_sals_17.head())\n",
    "print(player_sals_15.head())\n",
    "print(player_sals_16.head())\n",
    "print(player_sals_17.head())"
   ]
  },
  {
   "cell_type": "code",
   "execution_count": null,
   "metadata": {},
   "outputs": [],
   "source": []
  }
 ],
 "metadata": {
  "kernelspec": {
   "display_name": "venv",
   "language": "python",
   "name": "python3"
  },
  "language_info": {
   "codemirror_mode": {
    "name": "ipython",
    "version": 3
   },
   "file_extension": ".py",
   "mimetype": "text/x-python",
   "name": "python",
   "nbconvert_exporter": "python",
   "pygments_lexer": "ipython3",
   "version": "3.12.3"
  }
 },
 "nbformat": 4,
 "nbformat_minor": 2
}
